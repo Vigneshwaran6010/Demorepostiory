{
 "cells": [
  {
   "cell_type": "code",
   "execution_count": 103,
   "metadata": {},
   "outputs": [],
   "source": [
    "import numpy as np\n",
    "import pandas as pd\n",
    "import matplotlib.pyplot as plt\n",
    "from sklearn.preprocessing import MinMaxScaler\n",
    "from tensorflow.keras.models import Sequential\n",
    "from tensorflow.keras.layers import LSTM, Dense"
   ]
  },
  {
   "cell_type": "code",
   "execution_count": 104,
   "metadata": {},
   "outputs": [
    {
     "name": "stdout",
     "output_type": "stream",
     "text": [
      "hello\n"
     ]
    }
   ],
   "source": [
    "print(\"hello\")"
   ]
  },
  {
   "cell_type": "code",
   "execution_count": 105,
   "metadata": {},
   "outputs": [],
   "source": [
    "# Load data\n",
    "data = pd.read_csv('yahoo_dataset.csv')\n",
    "data = data['Close'].values.reshape(-1,1)"
   ]
  },
  {
   "cell_type": "code",
   "execution_count": 106,
   "metadata": {},
   "outputs": [],
   "source": [
    "# Normalize data\n",
    "scaler = MinMaxScaler(feature_range=(0,1))\n",
    "scaled_data = scaler.fit_transform(data)"
   ]
  },
  {
   "cell_type": "code",
   "execution_count": 107,
   "metadata": {},
   "outputs": [],
   "source": [
    "\n",
    "# Split data into training and testing sets\n",
    "train_size = int(len(scaled_data) * 0.8)\n",
    "test_size = len(scaled_data) - train_size\n",
    "train_data, test_data = scaled_data[0:train_size,:], scaled_data[train_size:len(scaled_data),:]"
   ]
  },
  {
   "cell_type": "code",
   "execution_count": 108,
   "metadata": {},
   "outputs": [],
   "source": [
    "\n",
    "# Convert data into sequences\n",
    "def create_sequences(data, seq_length):\n",
    "    X, y = [], []\n",
    "    for i in range(len(data) - seq_length - 1):\n",
    "        X.append(data[i:(i+seq_length), 0])\n",
    "        y.append(data[i + seq_length, 0])\n",
    "    return np.array(X), np.array(y)\n",
    "\n",
    "seq_length = 10\n",
    "X_train, y_train = create_sequences(train_data, seq_length)\n",
    "X_test, y_test = create_sequences(test_data, seq_length)\n"
   ]
  },
  {
   "cell_type": "code",
   "execution_count": 109,
   "metadata": {},
   "outputs": [],
   "source": [
    "\n",
    "# Reshape data for LSTM input\n",
    "X_train = np.reshape(X_train, (X_train.shape[0], X_train.shape[1], 1))\n",
    "X_test = np.reshape(X_test, (X_test.shape[0], X_test.shape[1], 1))\n"
   ]
  },
  {
   "cell_type": "code",
   "execution_count": 122,
   "metadata": {},
   "outputs": [],
   "source": [
    "\n",
    "# Build LSTM model\n",
    "model = Sequential()\n",
    "model.add(LSTM(units=50, return_sequences=True, input_shape=(X_train.shape[1], 1)))\n",
    "model.add(LSTM(units=50,return_sequences=True))\n",
    "model.add(LSTM(units=50))\n",
    "model.add(Dense(units=1))\n"
   ]
  },
  {
   "cell_type": "code",
   "execution_count": 123,
   "metadata": {},
   "outputs": [],
   "source": [
    "\n",
    "# Compile model\n",
    "model.compile(optimizer='adam', loss='mean_squared_error')\n"
   ]
  },
  {
   "cell_type": "code",
   "execution_count": 124,
   "metadata": {},
   "outputs": [
    {
     "name": "stdout",
     "output_type": "stream",
     "text": [
      "Epoch 1/75\n",
      "17/17 [==============================] - 6s 12ms/step - loss: 0.0235\n",
      "Epoch 2/75\n",
      "17/17 [==============================] - 0s 13ms/step - loss: 0.0040\n",
      "Epoch 3/75\n",
      "17/17 [==============================] - 0s 19ms/step - loss: 0.0013\n",
      "Epoch 4/75\n",
      "17/17 [==============================] - 0s 13ms/step - loss: 9.7742e-04\n",
      "Epoch 5/75\n",
      "17/17 [==============================] - 0s 12ms/step - loss: 9.3848e-04\n",
      "Epoch 6/75\n",
      "17/17 [==============================] - 0s 16ms/step - loss: 8.5227e-04\n",
      "Epoch 7/75\n",
      "17/17 [==============================] - 0s 12ms/step - loss: 8.3064e-04\n",
      "Epoch 8/75\n",
      "17/17 [==============================] - 0s 15ms/step - loss: 8.4571e-04\n",
      "Epoch 9/75\n",
      "17/17 [==============================] - 0s 12ms/step - loss: 8.9729e-04\n",
      "Epoch 10/75\n",
      "17/17 [==============================] - 0s 13ms/step - loss: 8.6492e-04\n",
      "Epoch 11/75\n",
      "17/17 [==============================] - 0s 13ms/step - loss: 8.2990e-04\n",
      "Epoch 12/75\n",
      "17/17 [==============================] - 0s 12ms/step - loss: 9.1863e-04\n",
      "Epoch 13/75\n",
      "17/17 [==============================] - 0s 15ms/step - loss: 8.7380e-04\n",
      "Epoch 14/75\n",
      "17/17 [==============================] - 0s 12ms/step - loss: 8.2737e-04\n",
      "Epoch 15/75\n",
      "17/17 [==============================] - 0s 13ms/step - loss: 8.2497e-04\n",
      "Epoch 16/75\n",
      "17/17 [==============================] - 0s 16ms/step - loss: 8.6303e-04\n",
      "Epoch 17/75\n",
      "17/17 [==============================] - 0s 13ms/step - loss: 9.0468e-04\n",
      "Epoch 18/75\n",
      "17/17 [==============================] - 0s 15ms/step - loss: 8.9100e-04\n",
      "Epoch 19/75\n",
      "17/17 [==============================] - 0s 12ms/step - loss: 8.9962e-04\n",
      "Epoch 20/75\n",
      "17/17 [==============================] - 0s 12ms/step - loss: 8.4064e-04\n",
      "Epoch 21/75\n",
      "17/17 [==============================] - 0s 12ms/step - loss: 8.6396e-04\n",
      "Epoch 22/75\n",
      "17/17 [==============================] - 0s 12ms/step - loss: 9.3011e-04\n",
      "Epoch 23/75\n",
      "17/17 [==============================] - 0s 15ms/step - loss: 8.3268e-04\n",
      "Epoch 24/75\n",
      "17/17 [==============================] - 0s 13ms/step - loss: 9.1102e-04\n",
      "Epoch 25/75\n",
      "17/17 [==============================] - 0s 13ms/step - loss: 8.2026e-04\n",
      "Epoch 26/75\n",
      "17/17 [==============================] - 0s 13ms/step - loss: 8.8885e-04\n",
      "Epoch 27/75\n",
      "17/17 [==============================] - 0s 16ms/step - loss: 9.5990e-04\n",
      "Epoch 28/75\n",
      "17/17 [==============================] - 0s 14ms/step - loss: 8.8941e-04\n",
      "Epoch 29/75\n",
      "17/17 [==============================] - 0s 14ms/step - loss: 7.6376e-04\n",
      "Epoch 30/75\n",
      "17/17 [==============================] - 0s 13ms/step - loss: 8.3666e-04\n",
      "Epoch 31/75\n",
      "17/17 [==============================] - 0s 14ms/step - loss: 8.1764e-04\n",
      "Epoch 32/75\n",
      "17/17 [==============================] - 0s 12ms/step - loss: 8.3008e-04\n",
      "Epoch 33/75\n",
      "17/17 [==============================] - 0s 15ms/step - loss: 8.2956e-04\n",
      "Epoch 34/75\n",
      "17/17 [==============================] - 0s 12ms/step - loss: 7.9252e-04\n",
      "Epoch 35/75\n",
      "17/17 [==============================] - 0s 12ms/step - loss: 9.1984e-04\n",
      "Epoch 36/75\n",
      "17/17 [==============================] - 0s 15ms/step - loss: 7.9229e-04\n",
      "Epoch 37/75\n",
      "17/17 [==============================] - 0s 14ms/step - loss: 8.6952e-04\n",
      "Epoch 38/75\n",
      "17/17 [==============================] - 0s 16ms/step - loss: 9.2548e-04\n",
      "Epoch 39/75\n",
      "17/17 [==============================] - 0s 15ms/step - loss: 9.2508e-04\n",
      "Epoch 40/75\n",
      "17/17 [==============================] - 0s 12ms/step - loss: 8.4770e-04\n",
      "Epoch 41/75\n",
      "17/17 [==============================] - 0s 12ms/step - loss: 8.2938e-04\n",
      "Epoch 42/75\n",
      "17/17 [==============================] - 0s 13ms/step - loss: 8.9730e-04\n",
      "Epoch 43/75\n",
      "17/17 [==============================] - 0s 14ms/step - loss: 8.4095e-04\n",
      "Epoch 44/75\n",
      "17/17 [==============================] - 0s 14ms/step - loss: 7.9161e-04\n",
      "Epoch 45/75\n",
      "17/17 [==============================] - 0s 12ms/step - loss: 8.4818e-04\n",
      "Epoch 46/75\n",
      "17/17 [==============================] - 0s 15ms/step - loss: 8.9804e-04\n",
      "Epoch 47/75\n",
      "17/17 [==============================] - 0s 12ms/step - loss: 8.4678e-04\n",
      "Epoch 48/75\n",
      "17/17 [==============================] - 0s 17ms/step - loss: 8.1336e-04\n",
      "Epoch 49/75\n",
      "17/17 [==============================] - 0s 12ms/step - loss: 7.8954e-04\n",
      "Epoch 50/75\n",
      "17/17 [==============================] - 0s 15ms/step - loss: 8.9274e-04\n",
      "Epoch 51/75\n",
      "17/17 [==============================] - 0s 12ms/step - loss: 7.9256e-04\n",
      "Epoch 52/75\n",
      "17/17 [==============================] - 0s 12ms/step - loss: 8.3073e-04\n",
      "Epoch 53/75\n",
      "17/17 [==============================] - 0s 13ms/step - loss: 9.5804e-04\n",
      "Epoch 54/75\n",
      "17/17 [==============================] - 0s 14ms/step - loss: 9.1039e-04\n",
      "Epoch 55/75\n",
      "17/17 [==============================] - 0s 13ms/step - loss: 8.7996e-04\n",
      "Epoch 56/75\n",
      "17/17 [==============================] - 0s 13ms/step - loss: 7.4840e-04\n",
      "Epoch 57/75\n",
      "17/17 [==============================] - 0s 15ms/step - loss: 7.7308e-04\n",
      "Epoch 58/75\n",
      "17/17 [==============================] - 0s 16ms/step - loss: 8.4269e-04\n",
      "Epoch 59/75\n",
      "17/17 [==============================] - 0s 12ms/step - loss: 7.7620e-04\n",
      "Epoch 60/75\n",
      "17/17 [==============================] - 0s 13ms/step - loss: 7.5998e-04\n",
      "Epoch 61/75\n",
      "17/17 [==============================] - 0s 14ms/step - loss: 7.7697e-04\n",
      "Epoch 62/75\n",
      "17/17 [==============================] - 0s 12ms/step - loss: 8.4443e-04\n",
      "Epoch 63/75\n",
      "17/17 [==============================] - 0s 12ms/step - loss: 8.8107e-04\n",
      "Epoch 64/75\n",
      "17/17 [==============================] - 0s 13ms/step - loss: 8.7361e-04\n",
      "Epoch 65/75\n",
      "17/17 [==============================] - 0s 13ms/step - loss: 7.5284e-04\n",
      "Epoch 66/75\n",
      "17/17 [==============================] - 0s 13ms/step - loss: 7.9546e-04\n",
      "Epoch 67/75\n",
      "17/17 [==============================] - 0s 12ms/step - loss: 8.3895e-04\n",
      "Epoch 68/75\n",
      "17/17 [==============================] - 0s 16ms/step - loss: 7.6844e-04\n",
      "Epoch 69/75\n",
      "17/17 [==============================] - 0s 12ms/step - loss: 0.0010\n",
      "Epoch 70/75\n",
      "17/17 [==============================] - 0s 13ms/step - loss: 7.9413e-04\n",
      "Epoch 71/75\n",
      "17/17 [==============================] - 0s 14ms/step - loss: 8.1891e-04\n",
      "Epoch 72/75\n",
      "17/17 [==============================] - 0s 13ms/step - loss: 7.0966e-04\n",
      "Epoch 73/75\n",
      "17/17 [==============================] - 0s 14ms/step - loss: 7.4703e-04\n",
      "Epoch 74/75\n",
      "17/17 [==============================] - 0s 12ms/step - loss: 7.4293e-04\n",
      "Epoch 75/75\n",
      "17/17 [==============================] - 0s 14ms/step - loss: 7.2913e-04\n"
     ]
    },
    {
     "data": {
      "text/plain": [
       "<keras.src.callbacks.History at 0x291a61d4850>"
      ]
     },
     "execution_count": 124,
     "metadata": {},
     "output_type": "execute_result"
    }
   ],
   "source": [
    "\n",
    "# Train model\n",
    "model.fit(X_train, y_train,epochs=75, batch_size=32)\n"
   ]
  },
  {
   "cell_type": "code",
   "execution_count": null,
   "metadata": {},
   "outputs": [
    {
     "ename": "",
     "evalue": "",
     "output_type": "error",
     "traceback": [
      "\u001b[1;31mFailed to connect to the remote Jupyter Server 'http://localhost:8889/'. Verify the server is running and reachable. (Failed to connect to the remote Jupyter Server 'http://localhost:8889/'. Verify the server is running and reachable. (request to http://localhost:8889/api/kernels?1710663376498 failed, reason: connect ECONNREFUSED 127.0.0.1:8889).)."
     ]
    }
   ],
   "source": [
    "\n",
    "# Make predictions\n",
    "predictions = model.predict(X_test)\n",
    "predictions = scaler.inverse_transform(predictions)\n"
   ]
  },
  {
   "cell_type": "code",
   "execution_count": 126,
   "metadata": {},
   "outputs": [
    {
     "data": {
      "image/png": "[encoded data removed]",
      "text/plain": [
       "<Figure size 640x480 with 1 Axes>"
      ]
     },
     "metadata": {},
     "output_type": "display_data"
    }
   ],
   "source": [
    "\n",
    "# Visualize results\n",
    "plt.plot(data[train_size + seq_length:len(data)], color='blue', label='Actual Stock Price')\n",
    "plt.plot(predictions, color='red', label='Predicted Stock Price')\n",
    "plt.title('Stock Price Prediction')\n",
    "plt.xlabel('Time')\n",
    "plt.ylabel('Stock Price')\n",
    "plt.legend()\n",
    "plt.show()"
   ]
  }
 ],
 "metadata": {
  "kernelspec": {
   "display_name": "Python 3 (ipykernel)",
   "language": "python",
   "name": "python3"
  }
 },
 "nbformat": 4,
 "nbformat_minor": 2
}
