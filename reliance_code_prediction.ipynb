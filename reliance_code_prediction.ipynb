{
 "cells": [
  {
   "cell_type": "code",
   "execution_count": 13,
   "metadata": {},
   "outputs": [],
   "source": [
    "import numpy as np\n",
    "import pandas as pd\n",
    "import matplotlib.pyplot as plt\n",
    "from sklearn.preprocessing import MinMaxScaler\n",
    "from tensorflow.keras.models import Sequential\n",
    "from tensorflow.keras.layers import LSTM, Dense"
   ]
  },
  {
   "cell_type": "code",
   "execution_count": 1,
   "metadata": {},
   "outputs": [
    {
     "name": "stdout",
     "output_type": "stream",
     "text": [
      "hello\n"
     ]
    }
   ],
   "source": [
    "print(\"hello\")"
   ]
  },
  {
   "cell_type": "code",
   "execution_count": 15,
   "metadata": {},
   "outputs": [],
   "source": [
    "# Load data\n",
    "data = pd.read_csv('reliance_dataset.csv')\n",
    "data = data['Close'].values.reshape(-1,1)"
   ]
  },
  {
   "cell_type": "code",
   "execution_count": 16,
   "metadata": {},
   "outputs": [],
   "source": [
    "# Normalize data\n",
    "scaler = MinMaxScaler(feature_range=(0,1))\n",
    "scaled_data = scaler.fit_transform(data)"
   ]
  },
  {
   "cell_type": "code",
   "execution_count": 17,
   "metadata": {},
   "outputs": [],
   "source": [
    "\n",
    "# Split data into training and testing sets\n",
    "train_size = int(len(scaled_data) * 0.8)\n",
    "test_size = len(scaled_data) - train_size\n",
    "train_data, test_data = scaled_data[0:train_size,:], scaled_data[train_size:len(scaled_data),:]"
   ]
  },
  {
   "cell_type": "code",
   "execution_count": 18,
   "metadata": {},
   "outputs": [],
   "source": [
    "\n",
    "# Convert data into sequences\n",
    "def create_sequences(data, seq_length):\n",
    "    X, y = [], []\n",
    "    for i in range(len(data) - seq_length - 1):\n",
    "        X.append(data[i:(i+seq_length), 0])\n",
    "        y.append(data[i + seq_length, 0])\n",
    "    return np.array(X), np.array(y)\n",
    "\n",
    "seq_length = 10\n",
    "X_train, y_train = create_sequences(train_data, seq_length)\n",
    "X_test, y_test = create_sequences(test_data, seq_length)\n"
   ]
  },
  {
   "cell_type": "code",
   "execution_count": 19,
   "metadata": {},
   "outputs": [],
   "source": [
    "\n",
    "# Reshape data for LSTM input\n",
    "X_train = np.reshape(X_train, (X_train.shape[0], X_train.shape[1], 1))\n",
    "X_test = np.reshape(X_test, (X_test.shape[0], X_test.shape[1], 1))\n"
   ]
  },
  {
   "cell_type": "code",
   "execution_count": 20,
   "metadata": {},
   "outputs": [],
   "source": [
    "\n",
    "# Build LSTM model\n",
    "model = Sequential()\n",
    "model.add(LSTM(units=50, return_sequences=True, input_shape=(X_train.shape[1], 1)))\n",
    "model.add(LSTM(units=50,return_sequences=True))\n",
    "model.add(LSTM(units=50))\n",
    "model.add(Dense(units=1))\n"
   ]
  },
  {
   "cell_type": "code",
   "execution_count": 21,
   "metadata": {},
   "outputs": [],
   "source": [
    "\n",
    "# Compile model\n",
    "model.compile(optimizer='adam', loss='mean_squared_error')\n"
   ]
  },
  {
   "cell_type": "code",
   "execution_count": 22,
   "metadata": {},
   "outputs": [
    {
     "name": "stdout",
     "output_type": "stream",
     "text": [
      "Epoch 1/75\n"
     ]
    },
    {
     "name": "stdout",
     "output_type": "stream",
     "text": [
      "31/31 [==============================] - 9s 16ms/step - loss: nan\n",
      "Epoch 2/75\n",
      "31/31 [==============================] - 1s 18ms/step - loss: nan\n",
      "Epoch 3/75\n",
      "31/31 [==============================] - 1s 16ms/step - loss: nan\n",
      "Epoch 4/75\n",
      "31/31 [==============================] - 1s 17ms/step - loss: nan\n",
      "Epoch 5/75\n",
      "31/31 [==============================] - 1s 17ms/step - loss: nan\n",
      "Epoch 6/75\n",
      "31/31 [==============================] - 0s 16ms/step - loss: nan\n",
      "Epoch 7/75\n",
      "31/31 [==============================] - 1s 16ms/step - loss: nan\n",
      "Epoch 8/75\n",
      "31/31 [==============================] - 0s 16ms/step - loss: nan\n",
      "Epoch 9/75\n",
      "31/31 [==============================] - 1s 16ms/step - loss: nan\n",
      "Epoch 10/75\n",
      "31/31 [==============================] - 1s 17ms/step - loss: nan\n",
      "Epoch 11/75\n",
      "31/31 [==============================] - 0s 15ms/step - loss: nan\n",
      "Epoch 12/75\n",
      "31/31 [==============================] - 1s 16ms/step - loss: nan\n",
      "Epoch 13/75\n",
      "31/31 [==============================] - 1s 16ms/step - loss: nan\n",
      "Epoch 14/75\n",
      "31/31 [==============================] - 0s 16ms/step - loss: nan\n",
      "Epoch 15/75\n",
      "31/31 [==============================] - 1s 16ms/step - loss: nan\n",
      "Epoch 16/75\n",
      "31/31 [==============================] - 1s 16ms/step - loss: nan\n",
      "Epoch 17/75\n",
      "31/31 [==============================] - 0s 16ms/step - loss: nan\n",
      "Epoch 18/75\n",
      "31/31 [==============================] - 1s 18ms/step - loss: nan\n",
      "Epoch 19/75\n",
      "31/31 [==============================] - 1s 16ms/step - loss: nan\n",
      "Epoch 20/75\n",
      "31/31 [==============================] - 1s 17ms/step - loss: nan\n",
      "Epoch 21/75\n",
      "31/31 [==============================] - 1s 16ms/step - loss: nan\n",
      "Epoch 22/75\n",
      "31/31 [==============================] - 1s 18ms/step - loss: nan\n",
      "Epoch 23/75\n",
      "31/31 [==============================] - 1s 21ms/step - loss: nan\n",
      "Epoch 24/75\n",
      "31/31 [==============================] - 1s 17ms/step - loss: nan\n",
      "Epoch 25/75\n",
      "31/31 [==============================] - 0s 16ms/step - loss: nan\n",
      "Epoch 26/75\n",
      "31/31 [==============================] - 1s 16ms/step - loss: nan\n",
      "Epoch 27/75\n",
      "31/31 [==============================] - 1s 17ms/step - loss: nan\n",
      "Epoch 28/75\n",
      "31/31 [==============================] - 1s 16ms/step - loss: nan\n",
      "Epoch 29/75\n",
      "31/31 [==============================] - 0s 16ms/step - loss: nan\n",
      "Epoch 30/75\n",
      "31/31 [==============================] - 1s 17ms/step - loss: nan\n",
      "Epoch 31/75\n",
      "31/31 [==============================] - 1s 17ms/step - loss: nan\n",
      "Epoch 32/75\n",
      "31/31 [==============================] - 1s 17ms/step - loss: nan\n",
      "Epoch 33/75\n",
      "31/31 [==============================] - 0s 15ms/step - loss: nan\n",
      "Epoch 34/75\n",
      "31/31 [==============================] - 1s 17ms/step - loss: nan\n",
      "Epoch 35/75\n",
      "31/31 [==============================] - 0s 16ms/step - loss: nan\n",
      "Epoch 36/75\n",
      "31/31 [==============================] - 1s 16ms/step - loss: nan\n",
      "Epoch 37/75\n",
      "31/31 [==============================] - 0s 16ms/step - loss: nan\n",
      "Epoch 38/75\n",
      "31/31 [==============================] - 0s 16ms/step - loss: nan\n",
      "Epoch 39/75\n",
      "31/31 [==============================] - 1s 17ms/step - loss: nan\n",
      "Epoch 40/75\n",
      "31/31 [==============================] - 0s 16ms/step - loss: nan\n",
      "Epoch 41/75\n",
      "31/31 [==============================] - 0s 16ms/step - loss: nan\n",
      "Epoch 42/75\n",
      "31/31 [==============================] - 1s 17ms/step - loss: nan\n",
      "Epoch 43/75\n",
      "31/31 [==============================] - 1s 17ms/step - loss: nan\n",
      "Epoch 44/75\n",
      "31/31 [==============================] - 0s 16ms/step - loss: nan\n",
      "Epoch 45/75\n",
      "31/31 [==============================] - 1s 16ms/step - loss: nan\n",
      "Epoch 46/75\n",
      "31/31 [==============================] - 1s 18ms/step - loss: nan\n",
      "Epoch 47/75\n",
      "31/31 [==============================] - 1s 17ms/step - loss: nan\n",
      "Epoch 48/75\n",
      "31/31 [==============================] - 0s 16ms/step - loss: nan\n",
      "Epoch 49/75\n",
      "31/31 [==============================] - 1s 17ms/step - loss: nan\n",
      "Epoch 50/75\n",
      "31/31 [==============================] - 1s 17ms/step - loss: nan\n",
      "Epoch 51/75\n",
      "31/31 [==============================] - 1s 16ms/step - loss: nan\n",
      "Epoch 52/75\n",
      "31/31 [==============================] - 1s 16ms/step - loss: nan\n",
      "Epoch 53/75\n",
      "31/31 [==============================] - 1s 18ms/step - loss: nan\n",
      "Epoch 54/75\n",
      "31/31 [==============================] - 1s 20ms/step - loss: nan\n",
      "Epoch 55/75\n",
      "31/31 [==============================] - 1s 18ms/step - loss: nan\n",
      "Epoch 56/75\n",
      "31/31 [==============================] - 1s 16ms/step - loss: nan\n",
      "Epoch 57/75\n",
      "31/31 [==============================] - 1s 17ms/step - loss: nan\n",
      "Epoch 58/75\n",
      "31/31 [==============================] - 1s 16ms/step - loss: nan\n",
      "Epoch 59/75\n",
      "31/31 [==============================] - 0s 16ms/step - loss: nan\n",
      "Epoch 60/75\n",
      "31/31 [==============================] - 1s 16ms/step - loss: nan\n",
      "Epoch 61/75\n",
      "31/31 [==============================] - 1s 18ms/step - loss: nan\n",
      "Epoch 62/75\n",
      "31/31 [==============================] - 1s 17ms/step - loss: nan\n",
      "Epoch 63/75\n",
      "31/31 [==============================] - 0s 16ms/step - loss: nan\n",
      "Epoch 64/75\n",
      "31/31 [==============================] - 1s 16ms/step - loss: nan\n",
      "Epoch 65/75\n",
      "31/31 [==============================] - 1s 17ms/step - loss: nan\n",
      "Epoch 66/75\n",
      "31/31 [==============================] - 1s 17ms/step - loss: nan\n",
      "Epoch 67/75\n",
      "31/31 [==============================] - 1s 17ms/step - loss: nan\n",
      "Epoch 68/75\n",
      "31/31 [==============================] - 1s 16ms/step - loss: nan\n",
      "Epoch 69/75\n",
      "31/31 [==============================] - 1s 18ms/step - loss: nan\n",
      "Epoch 70/75\n",
      "31/31 [==============================] - 1s 17ms/step - loss: nan\n",
      "Epoch 71/75\n",
      "31/31 [==============================] - 1s 17ms/step - loss: nan\n",
      "Epoch 72/75\n",
      "31/31 [==============================] - 1s 17ms/step - loss: nan\n",
      "Epoch 73/75\n",
      "31/31 [==============================] - 1s 17ms/step - loss: nan\n",
      "Epoch 74/75\n",
      "31/31 [==============================] - 0s 15ms/step - loss: nan\n",
      "Epoch 75/75\n",
      "31/31 [==============================] - 1s 16ms/step - loss: nan\n"
     ]
    },
    {
     "data": {
      "text/plain": [
       "<keras.src.callbacks.History at 0x1edff66bb90>"
      ]
     },
     "execution_count": 22,
     "metadata": {},
     "output_type": "execute_result"
    }
   ],
   "source": [
    "\n",
    "# Train model\n",
    "model.fit(X_train, y_train,epochs=75, batch_size=32)\n"
   ]
  },
  {
   "cell_type": "code",
   "execution_count": 23,
   "metadata": {},
   "outputs": [
    {
     "name": "stdout",
     "output_type": "stream",
     "text": [
      "8/8 [==============================] - 2s 6ms/step\n"
     ]
    }
   ],
   "source": [
    "\n",
    "# Make predictions\n",
    "predictions = model.predict(X_test)\n",
    "predictions = scaler.inverse_transform(predictions)\n"
   ]
  },
  {
   "cell_type": "code",
   "execution_count": 24,
   "metadata": {},
   "outputs": [
    {
     "data": {
      "image/png": "[encoded data removed]",
      "text/plain": [
       "<Figure size 640x480 with 1 Axes>"
      ]
     },
     "metadata": {},
     "output_type": "display_data"
    }
   ],
   "source": [
    "\n",
    "# Visualize results\n",
    "plt.plot(data[train_size + seq_length:len(data)], color='blue', label='Actual Stock Price')\n",
    "plt.plot(predictions, color='red', label='Predicted Stock Price')\n",
    "plt.title('Stock Price Prediction')\n",
    "plt.xlabel('Time')\n",
    "plt.ylabel('Stock Price')\n",
    "plt.legend()\n",
    "plt.show()"
   ]
  }
 ],
 "metadata": {
  "kernelspec": {
   "display_name": "Python 3 (ipykernel)",
   "language": "python",
   "name": "python3"
  },
  "language_info": {
   "codemirror_mode": {
    "name": "ipython",
    "version": 3
   },
   "file_extension": ".py",
   "mimetype": "text/x-python",
   "name": "python",
   "nbconvert_exporter": "python",
   "pygments_lexer": "ipython3",
   "version": "3.11.4"
  }
 },
 "nbformat": 4,
 "nbformat_minor": 2
}
